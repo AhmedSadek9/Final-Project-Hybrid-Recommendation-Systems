{
  "cells": [
    {
      "cell_type": "code",
      "execution_count": 1,
      "metadata": {
        "colab": {
          "base_uri": "https://localhost:8080/"
        },
        "id": "8tFblwuyES6d",
        "outputId": "24a0bd2a-22ac-4565-a83f-a42050884a6a"
      },
      "outputs": [],
      "source": [
        "#3. Hybrid Model Integration\n",
        "\n",
        "import pandas as pd\n",
        "\n",
        "def hybrid_recommend(movies, content_sim, svd, user_id, movie_title, content_w=0.5, collab_w=0.5):\n",
        "    try:\n",
        "        movie_id = movies[movies['title'] == movie_title]['movieId'].values[0]\n",
        "        content = get_content_recommendations(movies, content_sim, movie_id)\n",
        "        content['score'] = content_w\n",
        "\n",
        "        collab = get_collab_recommendations(movies, ratings, svd, user_id)\n",
        "        collab['score'] = collab_w\n",
        "\n",
        "        hybrid = pd.concat([content, collab])\n",
        "        return hybrid.groupby(['movieId', 'title', 'genres']).agg({'score': 'sum'}).reset_index()\n",
        "    except Exception as e:\n",
        "        raise Exception(f\"Recommendation error: {e}\")"
      ]
    }
  ],
  "metadata": {
    "colab": {
      "provenance": []
    },
    "kernelspec": {
      "display_name": "Python 3",
      "name": "python3"
    },
    "language_info": {
      "codemirror_mode": {
        "name": "ipython",
        "version": 3
      },
      "file_extension": ".py",
      "mimetype": "text/x-python",
      "name": "python",
      "nbconvert_exporter": "python",
      "pygments_lexer": "ipython3",
      "version": "3.10.0"
    }
  },
  "nbformat": 4,
  "nbformat_minor": 0
}

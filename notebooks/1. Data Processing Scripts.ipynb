{
  "cells": [
    {
      "cell_type": "code",
      "execution_count": 1,
      "metadata": {
        "colab": {
          "base_uri": "https://localhost:8080/"
        },
        "id": "4EmkFyKZC9JU",
        "outputId": "03a6e0cd-b14d-40f0-fea0-facc47e52bf7"
      },
      "outputs": [],
      "source": [
        "#1. Data Processing Scripts\n",
        "import pandas as pd\n",
        "\n",
        "def load_data():\n",
        "    movies = pd.read_csv('movies.csv')\n",
        "    ratings = pd.read_csv('ratings.csv')\n",
        "    movies['genres'] = movies['genres'].str.replace('|', ' ')\n",
        "    return movies.dropna(), ratings.dropna()"
      ]
    }
  ],
  "metadata": {
    "colab": {
      "provenance": []
    },
    "kernelspec": {
      "display_name": "Python 3",
      "name": "python3"
    },
    "language_info": {
      "codemirror_mode": {
        "name": "ipython",
        "version": 3
      },
      "file_extension": ".py",
      "mimetype": "text/x-python",
      "name": "python",
      "nbconvert_exporter": "python",
      "pygments_lexer": "ipython3",
      "version": "3.10.0"
    }
  },
  "nbformat": 4,
  "nbformat_minor": 0
}

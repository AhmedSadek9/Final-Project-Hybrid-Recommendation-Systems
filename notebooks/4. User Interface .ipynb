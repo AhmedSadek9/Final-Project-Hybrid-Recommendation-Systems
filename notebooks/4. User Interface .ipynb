{
  "cells": [
    {
      "cell_type": "code",
      "execution_count": 1,
      "metadata": {
        "colab": {
          "base_uri": "https://localhost:8080/"
        },
        "id": "YWP_Z9hxIu_S",
        "outputId": "9b66060a-bd17-4482-c94c-1e89fd3c5d09"
      },
      "outputs": [
        {
          "name": "stderr",
          "output_type": "stream",
          "text": [
            "2025-05-13 23:10:42.587 WARNING streamlit.runtime.scriptrunner_utils.script_run_context: Thread 'MainThread': missing ScriptRunContext! This warning can be ignored when running in bare mode.\n",
            "2025-05-13 23:10:42.996 \n",
            "  \u001b[33m\u001b[1mWarning:\u001b[0m to view this Streamlit app on a browser, run it with the following\n",
            "  command:\n",
            "\n",
            "    streamlit run C:\\Users\\LENOVO\\AppData\\Roaming\\Python\\Python310\\site-packages\\ipykernel_launcher.py [ARGUMENTS]\n",
            "2025-05-13 23:10:42.998 Thread 'MainThread': missing ScriptRunContext! This warning can be ignored when running in bare mode.\n",
            "2025-05-13 23:10:42.998 Thread 'MainThread': missing ScriptRunContext! This warning can be ignored when running in bare mode.\n",
            "2025-05-13 23:10:42.998 Thread 'MainThread': missing ScriptRunContext! This warning can be ignored when running in bare mode.\n",
            "2025-05-13 23:10:42.998 Thread 'MainThread': missing ScriptRunContext! This warning can be ignored when running in bare mode.\n",
            "2025-05-13 23:10:42.998 Thread 'MainThread': missing ScriptRunContext! This warning can be ignored when running in bare mode.\n",
            "2025-05-13 23:10:42.998 Thread 'MainThread': missing ScriptRunContext! This warning can be ignored when running in bare mode.\n",
            "2025-05-13 23:10:42.998 Thread 'MainThread': missing ScriptRunContext! This warning can be ignored when running in bare mode.\n",
            "2025-05-13 23:10:43.005 Thread 'MainThread': missing ScriptRunContext! This warning can be ignored when running in bare mode.\n",
            "2025-05-13 23:10:43.005 Thread 'MainThread': missing ScriptRunContext! This warning can be ignored when running in bare mode.\n",
            "2025-05-13 23:10:43.005 Session state does not function when running a script without `streamlit run`\n",
            "2025-05-13 23:10:43.008 Thread 'MainThread': missing ScriptRunContext! This warning can be ignored when running in bare mode.\n",
            "2025-05-13 23:10:43.008 Thread 'MainThread': missing ScriptRunContext! This warning can be ignored when running in bare mode.\n",
            "2025-05-13 23:10:43.008 Thread 'MainThread': missing ScriptRunContext! This warning can be ignored when running in bare mode.\n",
            "2025-05-13 23:10:43.008 Thread 'MainThread': missing ScriptRunContext! This warning can be ignored when running in bare mode.\n"
          ]
        },
        {
          "ename": "NameError",
          "evalue": "name 'movies' is not defined",
          "output_type": "error",
          "traceback": [
            "\u001b[1;31m---------------------------------------------------------------------------\u001b[0m",
            "\u001b[1;31mNameError\u001b[0m                                 Traceback (most recent call last)",
            "Cell \u001b[1;32mIn[1], line 30\u001b[0m\n\u001b[0;32m     28\u001b[0m \u001b[38;5;28;01mif\u001b[39;00m app_mode \u001b[38;5;241m==\u001b[39m \u001b[38;5;124m\"\u001b[39m\u001b[38;5;124mHome\u001b[39m\u001b[38;5;124m\"\u001b[39m:\n\u001b[0;32m     29\u001b[0m     st\u001b[38;5;241m.\u001b[39mmarkdown(\u001b[38;5;124m\"\u001b[39m\u001b[38;5;124m## MovieLens Dataset Overview\u001b[39m\u001b[38;5;124m\"\u001b[39m)\n\u001b[1;32m---> 30\u001b[0m     st\u001b[38;5;241m.\u001b[39mwrite(\u001b[38;5;124mf\u001b[39m\u001b[38;5;124m\"\u001b[39m\u001b[38;5;124mTotal Movies: \u001b[39m\u001b[38;5;132;01m{\u001b[39;00m\u001b[38;5;28mlen\u001b[39m(movies)\u001b[38;5;132;01m}\u001b[39;00m\u001b[38;5;124m\"\u001b[39m)\n\u001b[0;32m     31\u001b[0m     st\u001b[38;5;241m.\u001b[39mwrite(\u001b[38;5;124mf\u001b[39m\u001b[38;5;124m\"\u001b[39m\u001b[38;5;124mTotal Ratings: \u001b[39m\u001b[38;5;132;01m{\u001b[39;00m\u001b[38;5;28mlen\u001b[39m(ratings)\u001b[38;5;132;01m}\u001b[39;00m\u001b[38;5;124m\"\u001b[39m)\n\u001b[0;32m     32\u001b[0m     st\u001b[38;5;241m.\u001b[39mwrite(\u001b[38;5;124mf\u001b[39m\u001b[38;5;124m\"\u001b[39m\u001b[38;5;124mTotal Users: \u001b[39m\u001b[38;5;132;01m{\u001b[39;00mratings[\u001b[38;5;124m'\u001b[39m\u001b[38;5;124muserId\u001b[39m\u001b[38;5;124m'\u001b[39m]\u001b[38;5;241m.\u001b[39mnunique()\u001b[38;5;132;01m}\u001b[39;00m\u001b[38;5;124m\"\u001b[39m)\n",
            "\u001b[1;31mNameError\u001b[0m: name 'movies' is not defined"
          ]
        }
      ],
      "source": [
        "#4. User Interface\n",
        "import numpy as np\n",
        "#np.import_array()  # THIS IS CRITICAL - MUST BE CALLED BEFORE SURPRISE IMPORTS\n",
        "\n",
        "import streamlit as st\n",
        "from data_processing import load_data\n",
        "from content_based import setup_content_model, get_content_recommendations\n",
        "from collaborative import setup_collaborative_model, get_collab_recommendations\n",
        "from hybrid_model import hybrid_recommend\n",
        "import warnings\n",
        "warnings.filterwarnings('ignore')\n",
        "\n",
        "# Initialize with error handling\n",
        "try:\n",
        "    movies, ratings = load_data()\n",
        "    cosine_sim = setup_content_model(movies)\n",
        "    svd = setup_collaborative_model(ratings)\n",
        "except Exception as e:\n",
        "    st.error(f\"Initialization failed: {str(e)}\")\n",
        "    st.stop()\n",
        "\n",
        "# Streamlit UI\n",
        "st.set_page_config(page_title=\"Recommender System\", layout=\"wide\")\n",
        "st.title(\"🎬 Movie Recommender System\")\n",
        "\n",
        "app_mode = st.sidebar.radio(\"Choose mode\", [\"Home\", \"Content-Based\", \"Collaborative\", \"Hybrid\"])\n",
        "\n",
        "if app_mode == \"Home\":\n",
        "    st.markdown(\"## MovieLens Dataset Overview\")\n",
        "    st.write(f\"Total Movies: {len(movies)}\")\n",
        "    st.write(f\"Total Ratings: {len(ratings)}\")\n",
        "    st.write(f\"Total Users: {ratings['userId'].nunique()}\")\n",
        "    st.dataframe(movies.head(5))\n",
        "\n",
        "elif app_mode == \"Content-Based\":\n",
        "    movie = st.selectbox(\"Choose a movie\", sorted(movies['title'].unique()))\n",
        "    if st.button(\"Recommend Similar Movies\"):\n",
        "        mid = movies[movies['title'] == movie]['movieId'].values[0]\n",
        "        recs = get_content_recommendations(movies, cosine_sim, mid)  # Fixed missing args\n",
        "        st.write(recs)\n",
        "\n",
        "elif app_mode == \"Collaborative\":\n",
        "    uid = st.number_input(\"Enter User ID\", min_value=1, max_value=610, value=1)\n",
        "    if st.button(\"Recommend Movies\"):\n",
        "        recs = get_collab_recommendations(movies, ratings, svd, uid)  # Fixed missing args\n",
        "        st.write(recs)\n",
        "\n",
        "elif app_mode == \"Hybrid\":\n",
        "    uid = st.number_input(\"User ID\", min_value=1, max_value=610, value=1)\n",
        "    movie = st.selectbox(\"Your favorite movie\", sorted(movies['title'].unique()))\n",
        "    cw = st.slider(\"Content Weight\", 0.0, 1.0, 0.5)\n",
        "    mw = st.slider(\"Collaborative Weight\", 0.0, 1.0, 0.5)\n",
        "    if st.button(\"Get Hybrid Recommendations\"):\n",
        "        result = hybrid_recommend(movies, cosine_sim, svd, uid, movie, cw, mw)  # Fixed args\n",
        "        if result is not None:\n",
        "            st.write(result)"
      ]
    }
  ],
  "metadata": {
    "colab": {
      "provenance": []
    },
    "kernelspec": {
      "display_name": "Python 3",
      "name": "python3"
    },
    "language_info": {
      "codemirror_mode": {
        "name": "ipython",
        "version": 3
      },
      "file_extension": ".py",
      "mimetype": "text/x-python",
      "name": "python",
      "nbconvert_exporter": "python",
      "pygments_lexer": "ipython3",
      "version": "3.10.0"
    }
  },
  "nbformat": 4,
  "nbformat_minor": 0
}
